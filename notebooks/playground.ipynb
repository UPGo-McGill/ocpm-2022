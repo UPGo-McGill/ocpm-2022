{
 "cells": [
  {
   "cell_type": "code",
   "execution_count": 248,
   "id": "0d9ac500-b277-455a-9e3f-fee1f450c698",
   "metadata": {},
   "outputs": [],
   "source": [
    "import json\n",
    "import os\n",
    "import pandas as pd"
   ]
  },
  {
   "cell_type": "code",
   "execution_count": 301,
   "id": "64ec8e6b-6fae-41b8-af41-505fa869fb5c",
   "metadata": {},
   "outputs": [],
   "source": [
    "from dotenv import load_dotenv\n",
    "from langchain import PromptTemplate\n",
    "from langchain.chat_models import ChatOpenAI\n",
    "from langchain.embeddings import OpenAIEmbeddings\n",
    "from langchain.schema import StrOutputParser\n",
    "from langchain.schema.runnable import RunnablePassthrough\n",
    "from langchain.text_splitter import RecursiveCharacterTextSplitter\n",
    "from langchain.vectorstores import Chroma\n",
    "\n",
    "from langchain_community.document_loaders import Docx2txtLoader, TextLoader\n",
    "from langchain_core.runnables.base import RunnableSequence"
   ]
  },
  {
   "cell_type": "code",
   "execution_count": 261,
   "id": "ff84b1b3-568b-4e4f-a8a4-af4e4c3b906f",
   "metadata": {},
   "outputs": [],
   "source": [
    "examples = json.load(open('../data/RAG_resources/examples.json', 'r'))"
   ]
  },
  {
   "cell_type": "code",
   "execution_count": 270,
   "id": "c97b91e7-c7a1-4883-a177-e0b61a8fbade",
   "metadata": {},
   "outputs": [],
   "source": [
    "examples_fr = json.load(open('../data/RAG_resources/examples_fr.json', 'r'))"
   ]
  },
  {
   "cell_type": "code",
   "execution_count": 2,
   "id": "e006b077-897e-4039-b6d0-6577eb0eb012",
   "metadata": {},
   "outputs": [
    {
     "name": "stdout",
     "output_type": "stream",
     "text": [
      "1537\n",
      "168\n"
     ]
    }
   ],
   "source": [
    "DATA_PATH = '../data'\n",
    "# Create your representation model\n",
    "#candidate_topics = [\"climate\", \"sustainability\", \"other\"]\n",
    "#representation_model = ZeroShotClassification(candidate_topics, model=\"camembert-base\")\n",
    "#representation_model = MaximalMarginalRelevance(diversity=0.3)\n",
    "\n",
    "for idx, path in enumerate(os.scandir(DATA_PATH)):\n",
    "    if path.is_file():\n",
    "        fn = os.path.basename(path.path)\n",
    "\n",
    "files = ['letters', 'reports', 'hearings']\n",
    "docs_fr = []\n",
    "docs_en = []\n",
    "for f in files:\n",
    "    df = pd.read_csv(f'../data/{f}.csv')\n",
    "    docs_fr.extend(df[df.lang == 'fr'].sentence.tolist())\n",
    "    docs_en.extend(df[df.lang == 'en'].sentence.tolist())\n",
    "print(len(docs_fr))\n",
    "print(len(docs_en))"
   ]
  },
  {
   "cell_type": "code",
   "execution_count": 302,
   "id": "ccefa53b-4d2d-4f02-bfc1-c0c7434d0a5d",
   "metadata": {},
   "outputs": [
    {
     "data": {
      "text/plain": [
       "True"
      ]
     },
     "execution_count": 302,
     "metadata": {},
     "output_type": "execute_result"
    }
   ],
   "source": [
    "load_dotenv()"
   ]
  },
  {
   "cell_type": "code",
   "execution_count": 309,
   "id": "4f6c8e2a-2430-4b12-acd5-b5a3f90d73cc",
   "metadata": {},
   "outputs": [],
   "source": [
    "os.environ[\"OPENAI_API_KEY\"] = os.getenv(\"OPENAI_API_KEY\")"
   ]
  },
  {
   "cell_type": "code",
   "execution_count": 310,
   "id": "eb83ffd4-fb27-4480-87c0-03961542bd3f",
   "metadata": {},
   "outputs": [],
   "source": [
    "loader = TextLoader(\"../data/RAG_resources/abstract.txt\")\n",
    "abstract = loader.load()"
   ]
  },
  {
   "cell_type": "code",
   "execution_count": 311,
   "id": "f7b190cb-4f7e-4d77-8b35-9e56744ee9e4",
   "metadata": {},
   "outputs": [],
   "source": [
    "loader = Docx2txtLoader(\"../data/RAG_resources/green_gray.docx\")\n",
    "gg_article = loader.load()"
   ]
  },
  {
   "cell_type": "code",
   "execution_count": 312,
   "id": "19806e31-b5be-48f4-a995-8bc0f8669d48",
   "metadata": {},
   "outputs": [],
   "source": [
    "# Initialize RecursiveCharacterTextSplitter to make chunks of HTML text\n",
    "text_splitter = RecursiveCharacterTextSplitter(chunk_size=1000, chunk_overlap=200)\n",
    "\n",
    "# Split GDPR HTML\n",
    "splits = text_splitter.split_documents(gg_article)"
   ]
  },
  {
   "cell_type": "code",
   "execution_count": 313,
   "id": "8442f52d-63be-4a31-9dec-5ba69e594b0c",
   "metadata": {},
   "outputs": [
    {
     "data": {
      "text/plain": [
       "[Document(page_content='Green and grey: New ideologies of nature in urban sustainability policy\\n\\nSecond revision\\n\\n\\n\\n\\n\\nDavid Wachsmuth* and Hillary Angelo†\\n\\n*School of Urban Planning, McGill University \\n\\n†Department of Sociology, University of California–Santa Cruz', metadata={'source': '../data/RAG_resources/green_gray.docx'}),\n",
       " Document(page_content='Abstract: In the past two decades, “urban sustainability” has become a new policy common sense. This paper argues that contemporary urban sustainability thought and practice is co-constituted by two distinct representational forms, which we call green urban nature and grey urban nature. Green urban nature is the return of nature to the city in its most verdant form, signified by street trees, urban gardens, and the greening of post-industrial landscapes. Grey urban nature is the concept of social, technological urban space as already inherently sustainable, signified by dense urban cores, high-speed public transit, and energy-efficient buildings. We develop Lefebvre’s ideas of the realistic and transparent illusions as the constitutive ideologies of the social production of space to offer a framework for interpreting contemporary urban sustainability thinking in these terms, and concretize this argument through case studies of post-industrial greening in the Ruhr Valley, Germany;', metadata={'source': '../data/RAG_resources/green_gray.docx'})]"
      ]
     },
     "execution_count": 313,
     "metadata": {},
     "output_type": "execute_result"
    }
   ],
   "source": [
    "splits[:2]"
   ]
  },
  {
   "cell_type": "code",
   "execution_count": 314,
   "id": "596e2a1d-cc80-402c-a428-f76faa2dd683",
   "metadata": {},
   "outputs": [],
   "source": [
    "# Initialize Chroma vectorstore with documents as splits and using OpenAIEmbeddings\n",
    "vectorstore = Chroma.from_documents(documents=splits, embedding=OpenAIEmbeddings())"
   ]
  },
  {
   "cell_type": "code",
   "execution_count": 315,
   "id": "ac45b2ee-436e-4fac-8412-5ca2d6fc22ff",
   "metadata": {},
   "outputs": [],
   "source": [
    "# Setup vectorstore as retriever\n",
    "retriever = vectorstore.as_retriever()"
   ]
  },
  {
   "cell_type": "code",
   "execution_count": 316,
   "id": "4452a7d9-03ce-4c61-8d9f-1b96a17d63f1",
   "metadata": {},
   "outputs": [],
   "source": [
    "llm = ChatOpenAI(model_name=\"gpt-4o\", temperature=0.7)"
   ]
  },
  {
   "cell_type": "code",
   "execution_count": 317,
   "id": "10224762-3156-445b-813f-1124b28f0c82",
   "metadata": {},
   "outputs": [],
   "source": [
    "template=\"\"\"\n",
    "You are an annotator of bilingual texts in French and English. \\\n",
    "Using the provided context, determine if the provided sentence is about sustainability.\\\n",
    "If it is about sustainability, further determine if it is about 'green' or 'grey' sustainability, \\ \n",
    "as defined in the article. Label the sentence as 'green', 'grey', or 'both'.\\\n",
    "If the sentence isn't about sustainability, label it 'other'.\\\n",
    "Never respond with more than one word, which should be the correct label.\\\n",
    "\\nSentence: {sentence} \\nContext: {context} \\nLabel:\"\"\"\n",
    "\n",
    "gg_prompt = PromptTemplate(input_variables=['sentence', 'context'], template=template)"
   ]
  },
  {
   "cell_type": "code",
   "execution_count": 318,
   "id": "0f71928d-f464-4b83-ab27-cbccafa2bc19",
   "metadata": {},
   "outputs": [],
   "source": [
    "# Create function to make sure retriever has access to all docs\n",
    "def join_docs(docs:list):\n",
    "    return \" \".join(doc.page_content for doc in docs)"
   ]
  },
  {
   "cell_type": "markdown",
   "id": "5f582227-e688-4145-bc83-70c7aab002ba",
   "metadata": {},
   "source": [
    "## RAG + CoT"
   ]
  },
  {
   "cell_type": "code",
   "execution_count": 319,
   "id": "e287cccc-f90c-499c-ac19-08bb2f0de797",
   "metadata": {},
   "outputs": [],
   "source": [
    "sus_template=\"\"\"\n",
    "You are an annotator of bilingual texts in French and English.\\\n",
    "Using the provided context, determine if the provided sentence is about sustainability.\\\n",
    "Answer with the label 'yes' or 'no'.\\\n",
    "Never respond with more than one word, which should be the correct label.\\\n",
    "\\n\n",
    "<sentence>\n",
    "{sentence} \n",
    "</sentence>\n",
    "\\n\n",
    "<context>\n",
    "{context}\n",
    "</context>\n",
    "\n",
    "\\nLabel:\"\"\""
   ]
  },
  {
   "cell_type": "code",
   "execution_count": 320,
   "id": "93ef5f28-1cd5-4e42-b618-cb7c2c84e8b4",
   "metadata": {},
   "outputs": [],
   "source": [
    "sus_prompt = PromptTemplate(input_variables=['sentence', 'context'], template=sus_template)"
   ]
  },
  {
   "cell_type": "code",
   "execution_count": 321,
   "id": "672a141d-d319-4722-800a-bd80ae146c93",
   "metadata": {},
   "outputs": [],
   "source": [
    "sus_chain = ({\"context\": retriever | join_docs, \"sentence\": RunnablePassthrough()}\n",
    "             | sus_prompt \n",
    "             | llm \n",
    "             | StrOutputParser())"
   ]
  },
  {
   "cell_type": "code",
   "execution_count": 322,
   "id": "11ec5112-1d21-457b-a8fe-0055e74e8e27",
   "metadata": {},
   "outputs": [],
   "source": [
    "gg_template=\"\"\"\n",
    "You are an annotator of bilingual texts in French and English. \\\n",
    "This sentence is about sustainability.\\\n",
    "Using the provided context, determine if it is about 'green' or 'grey' sustainability.\\\n",
    "Answer with the label 'green' or 'grey'.\\\n",
    "Never respond with more than one word, which should be the correct label.\\\n",
    "\\n\n",
    "<sentence>\n",
    "{sentence} \n",
    "</sentence>\n",
    "\\n\n",
    "<context>\n",
    "{context}\n",
    "</context>\n",
    "\n",
    "\\nLabel:\"\"\""
   ]
  },
  {
   "cell_type": "code",
   "execution_count": 323,
   "id": "4f25e932-6cce-455c-8187-459415713584",
   "metadata": {},
   "outputs": [],
   "source": [
    "gg_prompt = PromptTemplate(input_variables=['sentence', 'context'], template=gg_template)"
   ]
  },
  {
   "cell_type": "code",
   "execution_count": 324,
   "id": "e0f48d47-46cc-47df-9260-46a5335b4f0f",
   "metadata": {},
   "outputs": [],
   "source": [
    "gg_chain = ({\"context\": retriever | join_docs, \"sentence\": RunnablePassthrough()}\n",
    "             | gg_prompt \n",
    "             | llm \n",
    "             | StrOutputParser())"
   ]
  },
  {
   "cell_type": "code",
   "execution_count": 325,
   "id": "a9649719-a7a6-4439-8c59-0bc3168e7b9e",
   "metadata": {},
   "outputs": [],
   "source": [
    "climate_template=\"\"\"\n",
    "You are an annotator of bilingual texts in French and English. \\\n",
    "Using the provided context, determine if the sentence is about 'climage change'.\\\n",
    "Make sure the sentence is about climate change in particular, not just the 'environment'.\\\n",
    "Answer with the label 'yes' or 'no'.\\\n",
    "Never respond with more than one word, which should be the correct label.\\\n",
    "\\n\n",
    "<sentence>\n",
    "{sentence} \n",
    "</sentence>\n",
    "\\n\n",
    "<context>\n",
    "{context}\n",
    "</context>\n",
    "\n",
    "\\nLabel:\"\"\""
   ]
  },
  {
   "cell_type": "code",
   "execution_count": 326,
   "id": "12db4892-8588-45a4-99e4-5c455ed6271c",
   "metadata": {},
   "outputs": [],
   "source": [
    "climate_prompt = PromptTemplate(input_variables=['sentence', 'context'], template=climate_template)"
   ]
  },
  {
   "cell_type": "code",
   "execution_count": 327,
   "id": "43432bcc-5b28-472f-9346-088b3c90094e",
   "metadata": {},
   "outputs": [],
   "source": [
    "climate_chain = ({\"context\": retriever | join_docs, \"sentence\": RunnablePassthrough()}\n",
    "             | climate_prompt \n",
    "             | llm \n",
    "             | StrOutputParser())"
   ]
  },
  {
   "cell_type": "code",
   "execution_count": 328,
   "id": "e5374d4b-663f-4472-a6ce-db4430552e27",
   "metadata": {},
   "outputs": [],
   "source": [
    "from typing import Tuple"
   ]
  },
  {
   "cell_type": "code",
   "execution_count": 329,
   "id": "6057fa7a-c886-4134-a944-1c65df805a76",
   "metadata": {},
   "outputs": [],
   "source": [
    "def pipe(sentence:str, \n",
    "         sus_chain:RunnableSequence=sus_chain, \n",
    "         gg_chain:RunnableSequence=gg_chain,\n",
    "         climate_chain:RunnableSequence=climate_chain) -> Tuple[str,str]:\n",
    "    sus = sus_chain.invoke(sentence)\n",
    "    climate = climate_chain.invoke(sentence)\n",
    "    if \"yes\" in sus.lower():\n",
    "        return [gg_chain.invoke(sentence).lower().strip(),\n",
    "                climate.lower().strip()]\n",
    "    else:\n",
    "        return [sus.lower().strip(),\n",
    "                climate.lower().strip()]"
   ]
  },
  {
   "cell_type": "code",
   "execution_count": 330,
   "id": "74b25e11-bcc1-4756-bcd4-f6f76090f84e",
   "metadata": {},
   "outputs": [],
   "source": [
    "grey_q = \"Denser buildings mean lower per capita energy use, which will lower carbon emissions and fight climate change\""
   ]
  },
  {
   "cell_type": "code",
   "execution_count": 331,
   "id": "eea82de4-b25f-4b50-b794-0fceec9ad31a",
   "metadata": {},
   "outputs": [],
   "source": [
    "green_q = \"New solutions for public transit will make cities key players in securing a sustainable future for the planet.\""
   ]
  },
  {
   "cell_type": "code",
   "execution_count": 332,
   "id": "058c066e-7344-48c4-9f61-cb7ef738202a",
   "metadata": {},
   "outputs": [
    {
     "name": "stdout",
     "output_type": "stream",
     "text": [
      "['green', 'no']\n",
      "['green', 'no']\n",
      "['green', 'no']\n",
      "['green', 'no']\n"
     ]
    }
   ],
   "source": [
    "for e in examples['green']:\n",
    "    print(pipe(e))"
   ]
  },
  {
   "cell_type": "code",
   "execution_count": 333,
   "id": "a8249ee9-1b0d-4d0e-83b4-9af1f5337950",
   "metadata": {},
   "outputs": [
    {
     "name": "stdout",
     "output_type": "stream",
     "text": [
      "['grey', 'yes']\n",
      "['green', 'no']\n",
      "['grey', 'no']\n"
     ]
    }
   ],
   "source": [
    "for e in examples['grey']:\n",
    "    print(pipe(e))"
   ]
  },
  {
   "cell_type": "code",
   "execution_count": 334,
   "id": "ae815b66-801a-4de1-8827-5108908685f5",
   "metadata": {},
   "outputs": [
    {
     "name": "stdout",
     "output_type": "stream",
     "text": [
      "['no', 'no']\n",
      "['grey', 'no']\n",
      "['no', 'no']\n"
     ]
    }
   ],
   "source": [
    "for e in examples['other']:\n",
    "    print(pipe(e))"
   ]
  },
  {
   "cell_type": "code",
   "execution_count": 335,
   "id": "3e03083b-620b-463a-9052-37699873d5ed",
   "metadata": {},
   "outputs": [
    {
     "name": "stdout",
     "output_type": "stream",
     "text": [
      "['green', 'no']\n",
      "['green', 'no']\n",
      "['green', 'no']\n",
      "['green', 'no']\n"
     ]
    }
   ],
   "source": [
    "for e in examples_fr['green']:\n",
    "    print(pipe(e))"
   ]
  },
  {
   "cell_type": "code",
   "execution_count": 336,
   "id": "bce2f0b2-9ebc-4421-b56f-35ea0e4cc2d5",
   "metadata": {},
   "outputs": [
    {
     "name": "stdout",
     "output_type": "stream",
     "text": [
      "['grey', 'yes']\n",
      "['green', 'no']\n",
      "['grey', 'no']\n"
     ]
    }
   ],
   "source": [
    "for e in examples_fr['grey']:\n",
    "    print(pipe(e))"
   ]
  },
  {
   "cell_type": "code",
   "execution_count": 337,
   "id": "bf9722e3-7c46-479e-b769-729fcf185c8b",
   "metadata": {},
   "outputs": [
    {
     "name": "stdout",
     "output_type": "stream",
     "text": [
      "['no', 'no']\n",
      "['grey', 'no']\n",
      "['grey', 'no']\n"
     ]
    }
   ],
   "source": [
    "for e in examples_fr['other']:\n",
    "    print(pipe(e))"
   ]
  },
  {
   "cell_type": "code",
   "execution_count": 338,
   "id": "27ca56bc-e0a5-4031-b377-c2a185159afe",
   "metadata": {},
   "outputs": [
    {
     "data": {
      "text/plain": [
       "['grey', 'yes']"
      ]
     },
     "execution_count": 338,
     "metadata": {},
     "output_type": "execute_result"
    }
   ],
   "source": [
    "pipe(grey_q)"
   ]
  },
  {
   "cell_type": "code",
   "execution_count": 339,
   "id": "0ab4e2e6-063e-407a-a290-3169cf98300b",
   "metadata": {},
   "outputs": [
    {
     "data": {
      "text/plain": [
       "['no', 'no']"
      ]
     },
     "execution_count": 339,
     "metadata": {},
     "output_type": "execute_result"
    }
   ],
   "source": [
    "pipe(\"The construction outside of my window is noisy.\")"
   ]
  },
  {
   "cell_type": "markdown",
   "id": "54cb6323-c201-4b2a-9a0b-56c2b2b62a32",
   "metadata": {},
   "source": [
    "# All in one JSON"
   ]
  },
  {
   "cell_type": "code",
   "execution_count": 340,
   "id": "da3d150f-c2af-4d2c-ab11-220eef8a08bb",
   "metadata": {},
   "outputs": [],
   "source": [
    "from langchain_core.output_parsers import JsonOutputParser\n",
    "from langchain_core.pydantic_v1 import BaseModel, Field"
   ]
  },
  {
   "cell_type": "code",
   "execution_count": 341,
   "id": "79430544-2a38-4475-9afc-62f3b9b00f64",
   "metadata": {},
   "outputs": [],
   "source": [
    "template=\"\"\"\n",
    "You are an annotator of bilingual texts in French and English. \\\n",
    "Using the provided context, determine if the provided sentence is about sustainability.\\\n",
    "Answer with the label 'yes' or 'no'.\\\n",
    "If the answer is 'yes', further use the provided context to determine if it's 'grey' or 'green' sustainability.\\\n",
    "For this answer, use the label 'green' or 'grey'.\\\n",
    "Finally, independently from the context and from the previous answers, determine if the sentence is about 'climate change'.\\\n",
    "For this answer, again use the labels 'yes' or 'no'.\\\n",
    "Your answer should always consist of a JSON \n",
    "\\nSentence: {sentence} \\nContext: {context}\"\"\""
   ]
  },
  {
   "cell_type": "code",
   "execution_count": 342,
   "id": "ed118270-91aa-41d5-b8d8-c380475ade4e",
   "metadata": {},
   "outputs": [],
   "source": [
    "class Sentence(BaseModel):\n",
    "    sus: str = Field(description=\"Is the sentence about sustainability?\")\n",
    "    gg: str = Field(description=\"If the sentence is about sustainability, is it 'grey' or 'green'?\")\n",
    "    climate: str = Field(description=\"Is the sentence about climate change?\")"
   ]
  },
  {
   "cell_type": "code",
   "execution_count": 343,
   "id": "daba7453-d679-4023-a7cc-feaf739de7e6",
   "metadata": {},
   "outputs": [
    {
     "data": {
      "text/plain": [
       "{'sus': 'no', 'gg': '', 'climate': 'no'}"
      ]
     },
     "execution_count": 343,
     "metadata": {},
     "output_type": "execute_result"
    }
   ],
   "source": [
    "# Set up a parser + inject instructions into the prompt template.\n",
    "parser = JsonOutputParser(pydantic_object=Sentence)\n",
    "\n",
    "prompt = PromptTemplate(\n",
    "    template=template+\".\\n{format_instructions}\\n\",\n",
    "    input_variables=[\"sentence\",\"context\"],\n",
    "    partial_variables={\"format_instructions\": parser.get_format_instructions()},\n",
    ")\n",
    "\n",
    "#chain = prompt | llm | parser\n",
    "json_chain = ({\"context\": retriever | join_docs, \"sentence\": RunnablePassthrough()}\n",
    "             | prompt \n",
    "             | llm \n",
    "             | parser)\n",
    "\n",
    "json_chain.invoke(\"My tummy hurts\")"
   ]
  },
  {
   "cell_type": "code",
   "execution_count": 344,
   "id": "97e71b8b-5eb3-4a21-99e7-47ede1ccda85",
   "metadata": {},
   "outputs": [],
   "source": [
    "def route(sus):\n",
    "    if \"yes\" in sus[\"label\"].lower():\n",
    "        print(\"this works\")\n",
    "        return gg_chain\n",
    "    else:\n",
    "        return gg_chain"
   ]
  },
  {
   "cell_type": "code",
   "execution_count": 345,
   "id": "d0fcb50f-c2e2-408d-8617-cb422e662d95",
   "metadata": {},
   "outputs": [],
   "source": [
    "from langchain_core.runnables import RunnableLambda\n",
    "\n",
    "full_chain = {\"label\": sus_chain, \"sentence\": lambda x: x[\"sentence\"]} | RunnableLambda(\n",
    "    route\n",
    ")"
   ]
  },
  {
   "cell_type": "code",
   "execution_count": 346,
   "id": "ebd4b0c1-a511-4eae-8c89-7ae0b82c9b61",
   "metadata": {},
   "outputs": [],
   "source": [
    "#full_chain.invoke(\"Subways will make cities more sustainable\")"
   ]
  },
  {
   "cell_type": "code",
   "execution_count": 347,
   "id": "2e9acf20-050e-4f88-8424-9002788c3cf9",
   "metadata": {},
   "outputs": [],
   "source": [
    "query_green = \"New solutions for public transit will make cities key players in securing a sustainable future for the planet.\""
   ]
  },
  {
   "cell_type": "code",
   "execution_count": 348,
   "id": "b493e39a-43ea-4d74-9538-81d0ba6f73b6",
   "metadata": {},
   "outputs": [],
   "source": [
    "query_green_fr = \"Les nouvelles solutions de transport en commun feront des villes des acteurs clés pour assurer un avenir durable à la planète.\""
   ]
  },
  {
   "cell_type": "code",
   "execution_count": 349,
   "id": "5bbf6b10-11d6-4aba-b7da-acbfb1489b1a",
   "metadata": {},
   "outputs": [
    {
     "data": {
      "text/plain": [
       "'yes'"
      ]
     },
     "execution_count": 349,
     "metadata": {},
     "output_type": "execute_result"
    }
   ],
   "source": [
    "answer = sus_chain.invoke(query_green)\n",
    "answer"
   ]
  },
  {
   "cell_type": "code",
   "execution_count": 350,
   "id": "36d7fcb8-bf38-4422-ae49-d4b638e7fdce",
   "metadata": {},
   "outputs": [
    {
     "data": {
      "text/plain": [
       "'yes'"
      ]
     },
     "execution_count": 350,
     "metadata": {},
     "output_type": "execute_result"
    }
   ],
   "source": [
    "answer = sus_chain.invoke(query_green_fr)\n",
    "answer"
   ]
  },
  {
   "cell_type": "code",
   "execution_count": 351,
   "id": "6b1f30bf-1509-4538-8a25-963e009d738c",
   "metadata": {},
   "outputs": [],
   "source": [
    "query_gray = \"Denser buildings mean lower per capita energy use, which will lower carbon emissions and fight climate change\""
   ]
  },
  {
   "cell_type": "code",
   "execution_count": 352,
   "id": "13ac7a31-9b87-424b-ada7-02af45ce17d0",
   "metadata": {},
   "outputs": [],
   "source": [
    "#query_gray = \"This sentence is about grey sustainability.\""
   ]
  },
  {
   "cell_type": "code",
   "execution_count": 353,
   "id": "5b3c63fe-9dbf-4c3e-a102-80eab2ea62b2",
   "metadata": {},
   "outputs": [
    {
     "data": {
      "text/plain": [
       "'yes'"
      ]
     },
     "execution_count": 353,
     "metadata": {},
     "output_type": "execute_result"
    }
   ],
   "source": [
    "answer = sus_chain.invoke(query_gray)\n",
    "answer"
   ]
  },
  {
   "cell_type": "code",
   "execution_count": 354,
   "id": "a8f5aaca-41a1-46da-967e-ecd0691c2705",
   "metadata": {},
   "outputs": [],
   "source": [
    "query_not = \"The construction here is far too noisy.\""
   ]
  },
  {
   "cell_type": "code",
   "execution_count": 355,
   "id": "12dc598a-2ffc-4926-976f-f549603a7db5",
   "metadata": {},
   "outputs": [
    {
     "data": {
      "text/plain": [
       "'No'"
      ]
     },
     "execution_count": 355,
     "metadata": {},
     "output_type": "execute_result"
    }
   ],
   "source": [
    "answer = sus_chain.invoke(query_not)\n",
    "answer"
   ]
  }
 ],
 "metadata": {
  "kernelspec": {
   "display_name": "ocpm-2022",
   "language": "python",
   "name": "ocpm-2022"
  },
  "language_info": {
   "codemirror_mode": {
    "name": "ipython",
    "version": 3
   },
   "file_extension": ".py",
   "mimetype": "text/x-python",
   "name": "python",
   "nbconvert_exporter": "python",
   "pygments_lexer": "ipython3",
   "version": "3.10.11"
  }
 },
 "nbformat": 4,
 "nbformat_minor": 5
}
