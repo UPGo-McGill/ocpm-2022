{
 "cells": [
  {
   "cell_type": "code",
   "execution_count": 1,
   "id": "0d9ac500-b277-455a-9e3f-fee1f450c698",
   "metadata": {},
   "outputs": [],
   "source": [
    "import json\n",
    "import numpy as np\n",
    "import os\n",
    "import pandas as pd\n",
    "import random"
   ]
  },
  {
   "cell_type": "code",
   "execution_count": 2,
   "id": "64ec8e6b-6fae-41b8-af41-505fa869fb5c",
   "metadata": {},
   "outputs": [],
   "source": [
    "from dotenv import load_dotenv\n",
    "from langchain import PromptTemplate\n",
    "from langchain.schema import StrOutputParser\n",
    "from langchain.schema.runnable import RunnablePassthrough\n",
    "from langchain.text_splitter import RecursiveCharacterTextSplitter\n",
    "from langchain.vectorstores import Chroma\n",
    "\n",
    "from langchain_openai import ChatOpenAI\n",
    "from langchain_openai import OpenAIEmbeddings\n",
    "from langchain_community.document_loaders import Docx2txtLoader, TextLoader\n",
    "from langchain_core.runnables.base import RunnableSequence"
   ]
  },
  {
   "cell_type": "code",
   "execution_count": 3,
   "id": "d182d28e-a0ae-4770-a57e-3f1ef0427767",
   "metadata": {},
   "outputs": [],
   "source": [
    "from tqdm import tqdm\n",
    "from typing import Tuple"
   ]
  },
  {
   "cell_type": "code",
   "execution_count": 4,
   "id": "16b75f0e-adf3-4a75-b60c-4196a6d9046f",
   "metadata": {},
   "outputs": [],
   "source": [
    "np.random.seed = 42"
   ]
  },
  {
   "cell_type": "code",
   "execution_count": 5,
   "id": "ff84b1b3-568b-4e4f-a8a4-af4e4c3b906f",
   "metadata": {},
   "outputs": [],
   "source": [
    "examples = json.load(open('../data/RAG_resources/examples.json', 'r'))"
   ]
  },
  {
   "cell_type": "code",
   "execution_count": 6,
   "id": "c97b91e7-c7a1-4883-a177-e0b61a8fbade",
   "metadata": {},
   "outputs": [],
   "source": [
    "examples_fr = json.load(open('../data/RAG_resources/examples_fr.json', 'r'))"
   ]
  },
  {
   "cell_type": "code",
   "execution_count": 7,
   "id": "e006b077-897e-4039-b6d0-6577eb0eb012",
   "metadata": {},
   "outputs": [
    {
     "name": "stdout",
     "output_type": "stream",
     "text": [
      "1537\n",
      "168\n"
     ]
    }
   ],
   "source": [
    "DATA_PATH = '../data/'\n",
    "\n",
    "for idx, path in enumerate(os.scandir(DATA_PATH)):\n",
    "    if path.is_file():\n",
    "        fn = os.path.basename(path.path)\n",
    "\n",
    "files = ['letters', 'reports', 'hearings']\n",
    "docs_fr = []\n",
    "docs_en = []\n",
    "for f in files:\n",
    "    df = pd.read_csv(f'../data/{f}.csv')\n",
    "    docs_fr.extend(df[df.lang == 'fr'].sentence.tolist())\n",
    "    docs_en.extend(df[df.lang == 'en'].sentence.tolist())\n",
    "print(len(docs_fr))\n",
    "print(len(docs_en))"
   ]
  },
  {
   "cell_type": "code",
   "execution_count": 8,
   "id": "67b53f33-23c1-4781-b506-0b725d2f324c",
   "metadata": {},
   "outputs": [
    {
     "data": {
      "text/html": [
       "<div>\n",
       "<style scoped>\n",
       "    .dataframe tbody tr th:only-of-type {\n",
       "        vertical-align: middle;\n",
       "    }\n",
       "\n",
       "    .dataframe tbody tr th {\n",
       "        vertical-align: top;\n",
       "    }\n",
       "\n",
       "    .dataframe thead th {\n",
       "        text-align: right;\n",
       "    }\n",
       "</style>\n",
       "<table border=\"1\" class=\"dataframe\">\n",
       "  <thead>\n",
       "    <tr style=\"text-align: right;\">\n",
       "      <th></th>\n",
       "      <th>Unnamed: 0</th>\n",
       "      <th>speaker</th>\n",
       "      <th>sentence</th>\n",
       "      <th>lang</th>\n",
       "    </tr>\n",
       "  </thead>\n",
       "  <tbody>\n",
       "    <tr>\n",
       "      <th>265</th>\n",
       "      <td>265</td>\n",
       "      <td>M. THOMAS BOUSHEL</td>\n",
       "      <td>Puis mon français est loin d’être parfait.</td>\n",
       "      <td>en</td>\n",
       "    </tr>\n",
       "    <tr>\n",
       "      <th>266</th>\n",
       "      <td>266</td>\n",
       "      <td>M. THOMAS BOUSHEL</td>\n",
       "      <td>Aujourd’hui, monsieur Coderre a dit theFrancis...</td>\n",
       "      <td>en</td>\n",
       "    </tr>\n",
       "    <tr>\n",
       "      <th>267</th>\n",
       "      <td>267</td>\n",
       "      <td>M. THOMAS BOUSHEL</td>\n",
       "      <td>Well, obviously what we saw tonight here, from...</td>\n",
       "      <td>en</td>\n",
       "    </tr>\n",
       "    <tr>\n",
       "      <th>268</th>\n",
       "      <td>268</td>\n",
       "      <td>M. THOMAS BOUSHEL</td>\n",
       "      <td>And my question to you is that over the past d...</td>\n",
       "      <td>en</td>\n",
       "    </tr>\n",
       "    <tr>\n",
       "      <th>269</th>\n",
       "      <td>269</td>\n",
       "      <td>M. THOMAS BOUSHEL</td>\n",
       "      <td>Peter McGill has no parks per se.</td>\n",
       "      <td>en</td>\n",
       "    </tr>\n",
       "    <tr>\n",
       "      <th>...</th>\n",
       "      <td>...</td>\n",
       "      <td>...</td>\n",
       "      <td>...</td>\n",
       "      <td>...</td>\n",
       "    </tr>\n",
       "    <tr>\n",
       "      <th>868</th>\n",
       "      <td>868</td>\n",
       "      <td>M. ROBERT HAJALY</td>\n",
       "      <td>If I understoodcorrectly, the 1.8 million doll...</td>\n",
       "      <td>en</td>\n",
       "    </tr>\n",
       "    <tr>\n",
       "      <th>869</th>\n",
       "      <td>869</td>\n",
       "      <td>M. ROBERT HAJALY</td>\n",
       "      <td>Now, I want toemphasize that outside of Peter ...</td>\n",
       "      <td>en</td>\n",
       "    </tr>\n",
       "    <tr>\n",
       "      <th>870</th>\n",
       "      <td>870</td>\n",
       "      <td>M. ROBERT HAJALY</td>\n",
       "      <td>InPeter McGill there is virtually none despite...</td>\n",
       "      <td>en</td>\n",
       "    </tr>\n",
       "    <tr>\n",
       "      <th>871</th>\n",
       "      <td>871</td>\n",
       "      <td>M. ROBERT HAJALY</td>\n",
       "      <td>I want to know if the City is prepared to comm...</td>\n",
       "      <td>en</td>\n",
       "    </tr>\n",
       "    <tr>\n",
       "      <th>879</th>\n",
       "      <td>879</td>\n",
       "      <td>M. ROBERT HAJALY</td>\n",
       "      <td>Would some of it be used for the Children’s Ho...</td>\n",
       "      <td>en</td>\n",
       "    </tr>\n",
       "  </tbody>\n",
       "</table>\n",
       "<p>123 rows × 4 columns</p>\n",
       "</div>"
      ],
      "text/plain": [
       "     Unnamed: 0            speaker   \n",
       "265         265  M. THOMAS BOUSHEL  \\\n",
       "266         266  M. THOMAS BOUSHEL   \n",
       "267         267  M. THOMAS BOUSHEL   \n",
       "268         268  M. THOMAS BOUSHEL   \n",
       "269         269  M. THOMAS BOUSHEL   \n",
       "..          ...                ...   \n",
       "868         868   M. ROBERT HAJALY   \n",
       "869         869   M. ROBERT HAJALY   \n",
       "870         870   M. ROBERT HAJALY   \n",
       "871         871   M. ROBERT HAJALY   \n",
       "879         879   M. ROBERT HAJALY   \n",
       "\n",
       "                                              sentence lang  \n",
       "265         Puis mon français est loin d’être parfait.   en  \n",
       "266  Aujourd’hui, monsieur Coderre a dit theFrancis...   en  \n",
       "267  Well, obviously what we saw tonight here, from...   en  \n",
       "268  And my question to you is that over the past d...   en  \n",
       "269                  Peter McGill has no parks per se.   en  \n",
       "..                                                 ...  ...  \n",
       "868  If I understoodcorrectly, the 1.8 million doll...   en  \n",
       "869  Now, I want toemphasize that outside of Peter ...   en  \n",
       "870  InPeter McGill there is virtually none despite...   en  \n",
       "871  I want to know if the City is prepared to comm...   en  \n",
       "879  Would some of it be used for the Children’s Ho...   en  \n",
       "\n",
       "[123 rows x 4 columns]"
      ]
     },
     "execution_count": 8,
     "metadata": {},
     "output_type": "execute_result"
    }
   ],
   "source": [
    "df[df.lang == 'en']"
   ]
  },
  {
   "cell_type": "code",
   "execution_count": 9,
   "id": "ccefa53b-4d2d-4f02-bfc1-c0c7434d0a5d",
   "metadata": {},
   "outputs": [
    {
     "data": {
      "text/plain": [
       "True"
      ]
     },
     "execution_count": 9,
     "metadata": {},
     "output_type": "execute_result"
    }
   ],
   "source": [
    "load_dotenv()"
   ]
  },
  {
   "cell_type": "code",
   "execution_count": 10,
   "id": "4f6c8e2a-2430-4b12-acd5-b5a3f90d73cc",
   "metadata": {},
   "outputs": [],
   "source": [
    "os.environ[\"OPENAI_API_KEY\"] = os.getenv(\"OPENAI_API_KEY\")"
   ]
  },
  {
   "cell_type": "code",
   "execution_count": 11,
   "id": "eb83ffd4-fb27-4480-87c0-03961542bd3f",
   "metadata": {},
   "outputs": [],
   "source": [
    "loader = TextLoader(\"../data/RAG_resources/abstract.txt\")\n",
    "abstract = loader.load()"
   ]
  },
  {
   "cell_type": "code",
   "execution_count": 12,
   "id": "f7b190cb-4f7e-4d77-8b35-9e56744ee9e4",
   "metadata": {},
   "outputs": [],
   "source": [
    "loader = Docx2txtLoader(\"../data/RAG_resources/green_gray.docx\")\n",
    "gg_article = loader.load()"
   ]
  },
  {
   "cell_type": "code",
   "execution_count": 13,
   "id": "19806e31-b5be-48f4-a995-8bc0f8669d48",
   "metadata": {},
   "outputs": [],
   "source": [
    "# Initialize RecursiveCharacterTextSplitter to make chunks of HTML text\n",
    "text_splitter = RecursiveCharacterTextSplitter(chunk_size=1000, chunk_overlap=200)\n",
    "\n",
    "# Split GDPR HTML\n",
    "splits = text_splitter.split_documents(gg_article)"
   ]
  },
  {
   "cell_type": "code",
   "execution_count": 14,
   "id": "8442f52d-63be-4a31-9dec-5ba69e594b0c",
   "metadata": {},
   "outputs": [
    {
     "data": {
      "text/plain": [
       "[Document(page_content='Green and grey: New ideologies of nature in urban sustainability policy\\n\\nSecond revision\\n\\n\\n\\n\\n\\nDavid Wachsmuth* and Hillary Angelo†\\n\\n*School of Urban Planning, McGill University \\n\\n†Department of Sociology, University of California–Santa Cruz', metadata={'source': '../data/RAG_resources/green_gray.docx'}),\n",
       " Document(page_content='Abstract: In the past two decades, “urban sustainability” has become a new policy common sense. This paper argues that contemporary urban sustainability thought and practice is co-constituted by two distinct representational forms, which we call green urban nature and grey urban nature. Green urban nature is the return of nature to the city in its most verdant form, signified by street trees, urban gardens, and the greening of post-industrial landscapes. Grey urban nature is the concept of social, technological urban space as already inherently sustainable, signified by dense urban cores, high-speed public transit, and energy-efficient buildings. We develop Lefebvre’s ideas of the realistic and transparent illusions as the constitutive ideologies of the social production of space to offer a framework for interpreting contemporary urban sustainability thinking in these terms, and concretize this argument through case studies of post-industrial greening in the Ruhr Valley, Germany;', metadata={'source': '../data/RAG_resources/green_gray.docx'})]"
      ]
     },
     "execution_count": 14,
     "metadata": {},
     "output_type": "execute_result"
    }
   ],
   "source": [
    "splits[:2]"
   ]
  },
  {
   "cell_type": "code",
   "execution_count": 15,
   "id": "596e2a1d-cc80-402c-a428-f76faa2dd683",
   "metadata": {},
   "outputs": [],
   "source": [
    "# Initialize Chroma vectorstore with documents as splits and using OpenAIEmbeddings\n",
    "vectorstore = Chroma.from_documents(documents=splits, embedding=OpenAIEmbeddings())"
   ]
  },
  {
   "cell_type": "code",
   "execution_count": 16,
   "id": "ac45b2ee-436e-4fac-8412-5ca2d6fc22ff",
   "metadata": {},
   "outputs": [],
   "source": [
    "# Setup vectorstore as retriever\n",
    "retriever = vectorstore.as_retriever()"
   ]
  },
  {
   "cell_type": "code",
   "execution_count": 17,
   "id": "4452a7d9-03ce-4c61-8d9f-1b96a17d63f1",
   "metadata": {},
   "outputs": [],
   "source": [
    "llm = ChatOpenAI(model_name=\"gpt-4o\", temperature=0.7).bind(logprobs=True)"
   ]
  },
  {
   "cell_type": "code",
   "execution_count": 18,
   "id": "0f71928d-f464-4b83-ab27-cbccafa2bc19",
   "metadata": {},
   "outputs": [],
   "source": [
    "# Create function to make sure retriever has access to all docs\n",
    "def join_docs(docs:list):\n",
    "    return \" \".join(doc.page_content for doc in docs)"
   ]
  },
  {
   "cell_type": "markdown",
   "id": "5f582227-e688-4145-bc83-70c7aab002ba",
   "metadata": {},
   "source": [
    "## RAG + CoT"
   ]
  },
  {
   "cell_type": "code",
   "execution_count": 19,
   "id": "12316050-96aa-4a33-be0d-b4714afc1dfc",
   "metadata": {},
   "outputs": [],
   "source": [
    "with open(f'{DATA_PATH}RAG_resources/sus_template.txt', 'r') as f:\n",
    "    sus_template = f.read()"
   ]
  },
  {
   "cell_type": "code",
   "execution_count": 20,
   "id": "f70921d7-f90f-4dc3-9386-bf7b2b2c9b75",
   "metadata": {},
   "outputs": [],
   "source": [
    "with open(f'{DATA_PATH}RAG_resources/gg_template.txt', 'r') as f:\n",
    "    gg_template = f.read()"
   ]
  },
  {
   "cell_type": "code",
   "execution_count": 21,
   "id": "083acb33-97b6-4afc-9698-cc9d69591f20",
   "metadata": {},
   "outputs": [],
   "source": [
    "with open(f'{DATA_PATH}RAG_resources/climate_template.txt', 'r') as f:\n",
    "    climate_template = f.read()"
   ]
  },
  {
   "cell_type": "code",
   "execution_count": 22,
   "id": "0262a734-6e62-4910-a3b2-47863959dee6",
   "metadata": {},
   "outputs": [
    {
     "data": {
      "text/plain": [
       "\"You are an annotator of bilingual texts in French and English.\\nUsing the provided context, determine if the provided sentence is about sustainability.\\nAnswer with the label 'yes' or 'no'.\\nNever respond with more than one word, which should be the correct label.\\n\\n<sentence>\\n{sentence} \\n</sentence>\\n\\n<context>\\n{context}\\n</context>\\n\\nLabel:\""
      ]
     },
     "execution_count": 22,
     "metadata": {},
     "output_type": "execute_result"
    }
   ],
   "source": [
    "sus_template"
   ]
  },
  {
   "cell_type": "code",
   "execution_count": 23,
   "id": "ce4d5c56-343e-4b5f-8eb0-ed1eed1b8471",
   "metadata": {},
   "outputs": [
    {
     "data": {
      "text/plain": [
       "'You are an annotator of bilingual texts in French and English.\\nThis sentence is about sustainability.\\nUsing the provided context, determine if it is about \\'green\\' or \\'grey\\' sustainability.\\nAnswer with the label \\'green\\' or \\'grey\\'.\\nNever respond with more than one word, which should be the correct label.\\n\\n<sentence>\\n{sentence} \\n</sentence>\\n\\n<context>\\n{context}\\n</context>\\n\\nLabel:\"\"\"'"
      ]
     },
     "execution_count": 23,
     "metadata": {},
     "output_type": "execute_result"
    }
   ],
   "source": [
    "gg_template"
   ]
  },
  {
   "cell_type": "code",
   "execution_count": 24,
   "id": "8bd281e1-e68f-4a97-8ccd-08504334a213",
   "metadata": {},
   "outputs": [
    {
     "data": {
      "text/plain": [
       "'You are an annotator of bilingual texts in French and English.\\nUsing the provided context, determine if the sentence is about \\'climage change\\'.\\nMake sure the sentence is about climate change in particular, not just the \\'environment\\'.\\nAnswer with the label \\'yes\\' or \\'no\\'.\\nNever respond with more than one word, which should be the correct label.\\n\\n<sentence>\\n{sentence} \\n</sentence>\\n\\nLabel:\"\"\"'"
      ]
     },
     "execution_count": 24,
     "metadata": {},
     "output_type": "execute_result"
    }
   ],
   "source": [
    "climate_template"
   ]
  },
  {
   "cell_type": "code",
   "execution_count": 25,
   "id": "25819aa9-9418-4aa9-98f6-1a9846f6a340",
   "metadata": {},
   "outputs": [],
   "source": [
    "def return_RAG_chain(template, retriever, llm):\n",
    "    prompt = PromptTemplate(input_variables=['sentence', 'context'], template=template)\n",
    "    chain = ({\"context\": retriever | join_docs, \"sentence\": RunnablePassthrough()}\n",
    "             | prompt \n",
    "             | llm)\n",
    "    return chain"
   ]
  },
  {
   "cell_type": "code",
   "execution_count": 26,
   "id": "3e49adfb-e2eb-4739-8176-be60ba55930a",
   "metadata": {},
   "outputs": [],
   "source": [
    "sus_chain = return_RAG_chain(sus_template, retriever, llm)"
   ]
  },
  {
   "cell_type": "code",
   "execution_count": 27,
   "id": "a631129d-4570-4c40-982e-2d5ba4840285",
   "metadata": {},
   "outputs": [],
   "source": [
    "gg_chain = return_RAG_chain(gg_template, retriever, llm)"
   ]
  },
  {
   "cell_type": "code",
   "execution_count": 28,
   "id": "3b8f76e7-2b46-4edb-b551-52f83b00cbf8",
   "metadata": {},
   "outputs": [],
   "source": [
    "def return_chain(template, llm):\n",
    "    prompt = PromptTemplate(input_variables=['sentence'],template=climate_template)\n",
    "    chain = (prompt \n",
    "             | llm)\n",
    "    return chain"
   ]
  },
  {
   "cell_type": "code",
   "execution_count": 29,
   "id": "cb1e6107-e194-4ba1-9352-006f2b2a42d5",
   "metadata": {},
   "outputs": [],
   "source": [
    "climate_chain = return_chain(climate_template, llm)"
   ]
  },
  {
   "cell_type": "code",
   "execution_count": 30,
   "id": "18b8bf2b-c03b-4778-aede-6c843e46ef71",
   "metadata": {},
   "outputs": [],
   "source": [
    "def get_ai_message_prob(message):\n",
    "    return np.exp(message.response_metadata[\"logprobs\"][\"content\"][0]['logprob'])\n",
    "\n",
    "def get_ai_message_str(message):\n",
    "    return message.content.lower().strip()"
   ]
  },
  {
   "cell_type": "code",
   "execution_count": 31,
   "id": "6057fa7a-c886-4134-a944-1c65df805a76",
   "metadata": {},
   "outputs": [],
   "source": [
    "def pipe(sentence:str, \n",
    "         sus_chain:RunnableSequence=sus_chain, \n",
    "         gg_chain:RunnableSequence=gg_chain,\n",
    "         climate_chain:RunnableSequence=climate_chain) -> Tuple[str,str]:\n",
    "    \n",
    "    sus = sus_chain.invoke(sentence)\n",
    "    sus_str = get_ai_message_str(sus)\n",
    "    sus_prob = get_ai_message_prob(sus)\n",
    "    \n",
    "    climate = climate_chain.invoke(sentence)\n",
    "    climate_str = get_ai_message_str(climate)\n",
    "    climate_prob = get_ai_message_prob(climate)\n",
    "    \n",
    "    if \"yes\" in sus.content.lower():\n",
    "        gg = gg_chain.invoke(sentence)\n",
    "        gg_str = get_ai_message_str(gg)\n",
    "        gg_prob = get_ai_message_prob(gg)\n",
    "        \n",
    "        return [(gg_str, gg_prob),\n",
    "                (climate_str, climate_prob)]\n",
    "    else:\n",
    "        return [(sus_str, sus_prob),\n",
    "                (climate_str, climate_prob)]"
   ]
  },
  {
   "cell_type": "code",
   "execution_count": 34,
   "id": "74b25e11-bcc1-4756-bcd4-f6f76090f84e",
   "metadata": {},
   "outputs": [],
   "source": [
    "grey_q = \"Denser buildings mean lower per capita energy use, which will lower carbon emissions and fight climate change\""
   ]
  },
  {
   "cell_type": "code",
   "execution_count": 35,
   "id": "eea82de4-b25f-4b50-b794-0fceec9ad31a",
   "metadata": {},
   "outputs": [],
   "source": [
    "green_q = \"New solutions for public transit will make cities key players in securing a sustainable future for the planet.\""
   ]
  },
  {
   "cell_type": "code",
   "execution_count": 36,
   "id": "058c066e-7344-48c4-9f61-cb7ef738202a",
   "metadata": {},
   "outputs": [
    {
     "name": "stdout",
     "output_type": "stream",
     "text": [
      "[('green', 0.999288060049595), ('no', 0.991326232567116)]\n",
      "[('green', 0.9980710846529887), ('no', 0.7308887423963716)]\n",
      "[('green', 0.9913830589981061), ('no', 0.9044383913090571)]\n",
      "[('green', 0.9932990114294211), ('no', 0.9858102589889465)]\n"
     ]
    }
   ],
   "source": [
    "for e in examples['green']:\n",
    "    print(pipe(e))"
   ]
  },
  {
   "cell_type": "code",
   "execution_count": 37,
   "id": "a8249ee9-1b0d-4d0e-83b4-9af1f5337950",
   "metadata": {},
   "outputs": [
    {
     "name": "stdout",
     "output_type": "stream",
     "text": [
      "[('grey', 0.999694378111887), ('yes', 0.5608936295963909)]\n",
      "[('green', 0.8518158023083355), ('no', 0.32074620730968334)]\n",
      "[('grey', 0.9998026776706121), ('no', 0.6790459097085093)]\n"
     ]
    }
   ],
   "source": [
    "for e in examples['grey']:\n",
    "    print(pipe(e))"
   ]
  },
  {
   "cell_type": "code",
   "execution_count": 38,
   "id": "ae815b66-801a-4de1-8827-5108908685f5",
   "metadata": {},
   "outputs": [
    {
     "name": "stdout",
     "output_type": "stream",
     "text": [
      "[('no', 0.9606779498501362), ('no', 0.924055143507971)]\n",
      "[('grey', 0.998954042595181), ('no', 0.8804934676351257)]\n",
      "[('no', 0.941609085576197), ('no', 0.6223652873038552)]\n"
     ]
    }
   ],
   "source": [
    "for e in examples['other']:\n",
    "    print(pipe(e))"
   ]
  },
  {
   "cell_type": "code",
   "execution_count": 39,
   "id": "3e03083b-620b-463a-9052-37699873d5ed",
   "metadata": {},
   "outputs": [
    {
     "name": "stdout",
     "output_type": "stream",
     "text": [
      "[('green', 0.9914080059795866), ('no', 0.8173274899065028)]\n",
      "[('green', 0.9975163743144668), ('no', 0.6759537651680623)]\n",
      "[('green', 0.9990827697430746), ('no', 0.5616402829181874)]\n",
      "[('green', 0.9819689443754485), ('no', 0.32061668407552896)]\n"
     ]
    }
   ],
   "source": [
    "for e in examples_fr['green']:\n",
    "    print(pipe(e))"
   ]
  },
  {
   "cell_type": "code",
   "execution_count": 40,
   "id": "bce2f0b2-9ebc-4421-b56f-35ea0e4cc2d5",
   "metadata": {},
   "outputs": [
    {
     "name": "stdout",
     "output_type": "stream",
     "text": [
      "[('grey', 0.9703511894790794), ('yes', 0.5619944806748091)]\n",
      "[('green', 0.8798819044535885), ('no', 0.5592428576468129)]\n",
      "[('grey', 0.9975884933651923), ('no', 0.9817018763089634)]\n"
     ]
    }
   ],
   "source": [
    "for e in examples_fr['grey']:\n",
    "    print(pipe(e))"
   ]
  },
  {
   "cell_type": "code",
   "execution_count": 41,
   "id": "bf9722e3-7c46-479e-b769-729fcf185c8b",
   "metadata": {},
   "outputs": [
    {
     "name": "stdout",
     "output_type": "stream",
     "text": [
      "[('no', 0.9817446195574484), ('no', 0.561859533904657)]\n",
      "[('grey', 0.9984576411598366), ('no', 0.32074729784864214)]\n",
      "[('grey', 0.9322985760801751), ('no', 0.7307427765652157)]\n"
     ]
    }
   ],
   "source": [
    "for e in examples_fr['other']:\n",
    "    print(pipe(e))"
   ]
  },
  {
   "cell_type": "code",
   "execution_count": 42,
   "id": "27ca56bc-e0a5-4031-b377-c2a185159afe",
   "metadata": {},
   "outputs": [
    {
     "data": {
      "text/plain": [
       "[('grey', 0.9980241896880838), ('yes', 0.6224430131340336)]"
      ]
     },
     "execution_count": 42,
     "metadata": {},
     "output_type": "execute_result"
    }
   ],
   "source": [
    "pipe(grey_q)"
   ]
  },
  {
   "cell_type": "code",
   "execution_count": 43,
   "id": "0ab4e2e6-063e-407a-a290-3169cf98300b",
   "metadata": {},
   "outputs": [
    {
     "data": {
      "text/plain": [
       "[('no', 0.8175065532785368), ('no', 0.9913827045787258)]"
      ]
     },
     "execution_count": 43,
     "metadata": {},
     "output_type": "execute_result"
    }
   ],
   "source": [
    "pipe(\"The construction outside of my window is noisy.\")"
   ]
  },
  {
   "cell_type": "markdown",
   "id": "54cb6323-c201-4b2a-9a0b-56c2b2b62a32",
   "metadata": {},
   "source": [
    "# All in one JSON"
   ]
  },
  {
   "cell_type": "code",
   "execution_count": 340,
   "id": "da3d150f-c2af-4d2c-ab11-220eef8a08bb",
   "metadata": {},
   "outputs": [],
   "source": [
    "from langchain_core.output_parsers import JsonOutputParser\n",
    "from langchain_core.pydantic_v1 import BaseModel, Field"
   ]
  },
  {
   "cell_type": "code",
   "execution_count": 341,
   "id": "79430544-2a38-4475-9afc-62f3b9b00f64",
   "metadata": {},
   "outputs": [],
   "source": [
    "template=\"\"\"\n",
    "You are an annotator of bilingual texts in French and English. \\\n",
    "Using the provided context, determine if the provided sentence is about sustainability.\\\n",
    "Answer with the label 'yes' or 'no'.\\\n",
    "If the answer is 'yes', further use the provided context to determine if it's 'grey' or 'green' sustainability.\\\n",
    "For this answer, use the label 'green' or 'grey'.\\\n",
    "Finally, independently from the context and from the previous answers, determine if the sentence is about 'climate change'.\\\n",
    "For this answer, again use the labels 'yes' or 'no'.\\\n",
    "Your answer should always consist of a JSON \n",
    "\\nSentence: {sentence} \\nContext: {context}\"\"\""
   ]
  },
  {
   "cell_type": "code",
   "execution_count": 342,
   "id": "ed118270-91aa-41d5-b8d8-c380475ade4e",
   "metadata": {},
   "outputs": [],
   "source": [
    "class Sentence(BaseModel):\n",
    "    sus: str = Field(description=\"Is the sentence about sustainability?\")\n",
    "    gg: str = Field(description=\"If the sentence is about sustainability, is it 'grey' or 'green'?\")\n",
    "    climate: str = Field(description=\"Is the sentence about climate change?\")"
   ]
  },
  {
   "cell_type": "code",
   "execution_count": 343,
   "id": "daba7453-d679-4023-a7cc-feaf739de7e6",
   "metadata": {},
   "outputs": [
    {
     "data": {
      "text/plain": [
       "{'sus': 'no', 'gg': '', 'climate': 'no'}"
      ]
     },
     "execution_count": 343,
     "metadata": {},
     "output_type": "execute_result"
    }
   ],
   "source": [
    "# Set up a parser + inject instructions into the prompt template.\n",
    "parser = JsonOutputParser(pydantic_object=Sentence)\n",
    "\n",
    "prompt = PromptTemplate(\n",
    "    template=template+\".\\n{format_instructions}\\n\",\n",
    "    input_variables=[\"sentence\",\"context\"],\n",
    "    partial_variables={\"format_instructions\": parser.get_format_instructions()},\n",
    ")\n",
    "\n",
    "#chain = prompt | llm | parser\n",
    "json_chain = ({\"context\": retriever | join_docs, \"sentence\": RunnablePassthrough()}\n",
    "             | prompt \n",
    "             | llm \n",
    "             | parser)\n",
    "\n",
    "json_chain.invoke(\"My tummy hurts\")"
   ]
  },
  {
   "cell_type": "code",
   "execution_count": 344,
   "id": "97e71b8b-5eb3-4a21-99e7-47ede1ccda85",
   "metadata": {},
   "outputs": [],
   "source": [
    "def route(sus):\n",
    "    if \"yes\" in sus[\"label\"].lower():\n",
    "        print(\"this works\")\n",
    "        return gg_chain\n",
    "    else:\n",
    "        return gg_chain"
   ]
  },
  {
   "cell_type": "code",
   "execution_count": 345,
   "id": "d0fcb50f-c2e2-408d-8617-cb422e662d95",
   "metadata": {},
   "outputs": [],
   "source": [
    "from langchain_core.runnables import RunnableLambda\n",
    "\n",
    "full_chain = {\"label\": sus_chain, \"sentence\": lambda x: x[\"sentence\"]} | RunnableLambda(\n",
    "    route\n",
    ")"
   ]
  },
  {
   "cell_type": "code",
   "execution_count": 346,
   "id": "ebd4b0c1-a511-4eae-8c89-7ae0b82c9b61",
   "metadata": {},
   "outputs": [],
   "source": [
    "#full_chain.invoke(\"Subways will make cities more sustainable\")"
   ]
  },
  {
   "cell_type": "code",
   "execution_count": 347,
   "id": "2e9acf20-050e-4f88-8424-9002788c3cf9",
   "metadata": {},
   "outputs": [],
   "source": [
    "query_green = \"New solutions for public transit will make cities key players in securing a sustainable future for the planet.\""
   ]
  },
  {
   "cell_type": "code",
   "execution_count": 348,
   "id": "b493e39a-43ea-4d74-9538-81d0ba6f73b6",
   "metadata": {},
   "outputs": [],
   "source": [
    "query_green_fr = \"Les nouvelles solutions de transport en commun feront des villes des acteurs clés pour assurer un avenir durable à la planète.\""
   ]
  },
  {
   "cell_type": "code",
   "execution_count": 349,
   "id": "5bbf6b10-11d6-4aba-b7da-acbfb1489b1a",
   "metadata": {},
   "outputs": [
    {
     "data": {
      "text/plain": [
       "'yes'"
      ]
     },
     "execution_count": 349,
     "metadata": {},
     "output_type": "execute_result"
    }
   ],
   "source": [
    "answer = sus_chain.invoke(query_green)\n",
    "answer"
   ]
  },
  {
   "cell_type": "code",
   "execution_count": 350,
   "id": "36d7fcb8-bf38-4422-ae49-d4b638e7fdce",
   "metadata": {},
   "outputs": [
    {
     "data": {
      "text/plain": [
       "'yes'"
      ]
     },
     "execution_count": 350,
     "metadata": {},
     "output_type": "execute_result"
    }
   ],
   "source": [
    "answer = sus_chain.invoke(query_green_fr)\n",
    "answer"
   ]
  },
  {
   "cell_type": "code",
   "execution_count": 351,
   "id": "6b1f30bf-1509-4538-8a25-963e009d738c",
   "metadata": {},
   "outputs": [],
   "source": [
    "query_gray = \"Denser buildings mean lower per capita energy use, which will lower carbon emissions and fight climate change\""
   ]
  },
  {
   "cell_type": "code",
   "execution_count": 352,
   "id": "13ac7a31-9b87-424b-ada7-02af45ce17d0",
   "metadata": {},
   "outputs": [],
   "source": [
    "#query_gray = \"This sentence is about grey sustainability.\""
   ]
  },
  {
   "cell_type": "code",
   "execution_count": 353,
   "id": "5b3c63fe-9dbf-4c3e-a102-80eab2ea62b2",
   "metadata": {},
   "outputs": [
    {
     "data": {
      "text/plain": [
       "'yes'"
      ]
     },
     "execution_count": 353,
     "metadata": {},
     "output_type": "execute_result"
    }
   ],
   "source": [
    "answer = sus_chain.invoke(query_gray)\n",
    "answer"
   ]
  },
  {
   "cell_type": "code",
   "execution_count": 354,
   "id": "a8f5aaca-41a1-46da-967e-ecd0691c2705",
   "metadata": {},
   "outputs": [],
   "source": [
    "query_not = \"The construction here is far too noisy.\""
   ]
  },
  {
   "cell_type": "code",
   "execution_count": 355,
   "id": "12dc598a-2ffc-4926-976f-f549603a7db5",
   "metadata": {},
   "outputs": [
    {
     "data": {
      "text/plain": [
       "'No'"
      ]
     },
     "execution_count": 355,
     "metadata": {},
     "output_type": "execute_result"
    }
   ],
   "source": [
    "answer = sus_chain.invoke(query_not)\n",
    "answer"
   ]
  },
  {
   "cell_type": "markdown",
   "id": "d7e41be6-788c-4e0e-9bea-a9d839be6c34",
   "metadata": {},
   "source": [
    "# Sample Sentences"
   ]
  },
  {
   "cell_type": "code",
   "execution_count": 44,
   "id": "35a5a717-35b4-42f0-b218-5934fbe1531e",
   "metadata": {},
   "outputs": [],
   "source": [
    "DATA_PATH = '../output/sample_output'\n",
    "dfs = []\n",
    "\n",
    "for idx, path in enumerate(os.scandir(DATA_PATH)):\n",
    "    if path.is_file():\n",
    "        fn = os.path.basename(path.path)\n",
    "        dfs.append(pd.read_csv(f'{DATA_PATH}/{fn}'))"
   ]
  },
  {
   "cell_type": "code",
   "execution_count": 45,
   "id": "9b320c18-72a6-4452-84fa-9ef6ffa48da7",
   "metadata": {},
   "outputs": [],
   "source": [
    "all_sents = pd.concat(dfs, axis=0, ignore_index=True).drop(columns=['Unnamed: 0'])"
   ]
  },
  {
   "cell_type": "code",
   "execution_count": 46,
   "id": "329dcaa6-26d2-4e76-be17-2daee8b53054",
   "metadata": {},
   "outputs": [],
   "source": [
    "mask = (all_sents['sentence'].str.len() > 299)\n",
    "long_sents = all_sents[mask].copy().sample(frac=1).reset_index(drop=True)\n"
   ]
  },
  {
   "cell_type": "code",
   "execution_count": 56,
   "id": "000844dd-8bfc-400e-bf75-932b61fad9b1",
   "metadata": {},
   "outputs": [],
   "source": [
    "long_sents[\"gg\"] = np.nan\n",
    "long_sents[\"climate\"] = np.nan\n",
    "long_sents[\"gg_prob\"] = np.nan\n",
    "long_sents[\"climate_prob\"] = np.nan"
   ]
  },
  {
   "cell_type": "code",
   "execution_count": 73,
   "id": "d79a23d7-5c16-4df5-9046-71d084cab498",
   "metadata": {},
   "outputs": [
    {
     "data": {
      "text/plain": [
       "(769, 8)"
      ]
     },
     "execution_count": 73,
     "metadata": {},
     "output_type": "execute_result"
    }
   ],
   "source": [
    "long_sents.shape"
   ]
  },
  {
   "cell_type": "code",
   "execution_count": 57,
   "id": "9f63b9b6-6e2b-44b9-89c6-dc4e4b14b01a",
   "metadata": {},
   "outputs": [],
   "source": [
    "long_sents_100 = long_sents[:100].copy().reset_index(drop=True)"
   ]
  },
  {
   "cell_type": "code",
   "execution_count": 58,
   "id": "11a2b181-d018-452d-8905-d8b54283b565",
   "metadata": {},
   "outputs": [
    {
     "data": {
      "text/html": [
       "<div>\n",
       "<style scoped>\n",
       "    .dataframe tbody tr th:only-of-type {\n",
       "        vertical-align: middle;\n",
       "    }\n",
       "\n",
       "    .dataframe tbody tr th {\n",
       "        vertical-align: top;\n",
       "    }\n",
       "\n",
       "    .dataframe thead th {\n",
       "        text-align: right;\n",
       "    }\n",
       "</style>\n",
       "<table border=\"1\" class=\"dataframe\">\n",
       "  <thead>\n",
       "    <tr style=\"text-align: right;\">\n",
       "      <th></th>\n",
       "      <th>file</th>\n",
       "      <th>speaker</th>\n",
       "      <th>sentence</th>\n",
       "      <th>lang</th>\n",
       "      <th>gg</th>\n",
       "      <th>climate</th>\n",
       "      <th>gg_prob</th>\n",
       "      <th>climate_prob</th>\n",
       "    </tr>\n",
       "  </thead>\n",
       "  <tbody>\n",
       "    <tr>\n",
       "      <th>0</th>\n",
       "      <td>citizen_sub_8a6</td>\n",
       "      <td>LETTER</td>\n",
       "      <td>est apparent dans le sud-ouest, la proximité d...</td>\n",
       "      <td>fr</td>\n",
       "      <td>NaN</td>\n",
       "      <td>NaN</td>\n",
       "      <td>NaN</td>\n",
       "      <td>NaN</td>\n",
       "    </tr>\n",
       "    <tr>\n",
       "      <th>1</th>\n",
       "      <td>citizen_sub_8b3</td>\n",
       "      <td>LETTER</td>\n",
       "      <td>Les logements familiaux, comme les logements b...</td>\n",
       "      <td>fr</td>\n",
       "      <td>NaN</td>\n",
       "      <td>NaN</td>\n",
       "      <td>NaN</td>\n",
       "      <td>NaN</td>\n",
       "    </tr>\n",
       "    <tr>\n",
       "      <th>2</th>\n",
       "      <td>citizen_sub_8a28</td>\n",
       "      <td>LETTER</td>\n",
       "      <td>Le corridor Dalhousie qui vise à faciliter la ...</td>\n",
       "      <td>fr</td>\n",
       "      <td>NaN</td>\n",
       "      <td>NaN</td>\n",
       "      <td>NaN</td>\n",
       "      <td>NaN</td>\n",
       "    </tr>\n",
       "    <tr>\n",
       "      <th>3</th>\n",
       "      <td>citizen_sub_8a3</td>\n",
       "      <td>LETTER</td>\n",
       "      <td>The democratic Process I believe in democracy ...</td>\n",
       "      <td>en</td>\n",
       "      <td>NaN</td>\n",
       "      <td>NaN</td>\n",
       "      <td>NaN</td>\n",
       "      <td>NaN</td>\n",
       "    </tr>\n",
       "    <tr>\n",
       "      <th>4</th>\n",
       "      <td>report_report</td>\n",
       "      <td>LETTER</td>\n",
       "      <td>Lors de cette même audience, plusieurs interve...</td>\n",
       "      <td>fr</td>\n",
       "      <td>NaN</td>\n",
       "      <td>NaN</td>\n",
       "      <td>NaN</td>\n",
       "      <td>NaN</td>\n",
       "    </tr>\n",
       "  </tbody>\n",
       "</table>\n",
       "</div>"
      ],
      "text/plain": [
       "               file speaker   \n",
       "0   citizen_sub_8a6  LETTER  \\\n",
       "1   citizen_sub_8b3  LETTER   \n",
       "2  citizen_sub_8a28  LETTER   \n",
       "3   citizen_sub_8a3  LETTER   \n",
       "4     report_report  LETTER   \n",
       "\n",
       "                                            sentence lang  gg  climate   \n",
       "0  est apparent dans le sud-ouest, la proximité d...   fr NaN      NaN  \\\n",
       "1  Les logements familiaux, comme les logements b...   fr NaN      NaN   \n",
       "2  Le corridor Dalhousie qui vise à faciliter la ...   fr NaN      NaN   \n",
       "3  The democratic Process I believe in democracy ...   en NaN      NaN   \n",
       "4  Lors de cette même audience, plusieurs interve...   fr NaN      NaN   \n",
       "\n",
       "   gg_prob  climate_prob  \n",
       "0      NaN           NaN  \n",
       "1      NaN           NaN  \n",
       "2      NaN           NaN  \n",
       "3      NaN           NaN  \n",
       "4      NaN           NaN  "
      ]
     },
     "execution_count": 58,
     "metadata": {},
     "output_type": "execute_result"
    }
   ],
   "source": [
    "long_sents_100.head(5)"
   ]
  },
  {
   "cell_type": "code",
   "execution_count": 59,
   "id": "40edd3fc-2e75-491e-94de-28eaf6ab620e",
   "metadata": {},
   "outputs": [
    {
     "name": "stderr",
     "output_type": "stream",
     "text": [
      "100%|████████████████████████████████████████████████████████████████████████████| 100/100 [02:27<00:00,  1.48s/it]\n"
     ]
    }
   ],
   "source": [
    "llm_outputs = []\n",
    "\n",
    "for s in tqdm(long_sents_100.sentence):\n",
    "    llm_output = pipe(s)\n",
    "    llm_outputs.append(llm_output)"
   ]
  },
  {
   "cell_type": "code",
   "execution_count": 67,
   "id": "c2bfea02-a6d1-4c3c-ac0e-9f3e53b54261",
   "metadata": {},
   "outputs": [],
   "source": [
    "long_sents_100[\"gg\"] = [op[0][0] for op in llm_outputs]\n",
    "long_sents_100[\"climate\"] = [op[1][0] for op in llm_outputs]\n",
    "\n",
    "long_sents_100[\"gg_prob\"] = [op[0][1] for op in llm_outputs]\n",
    "long_sents_100[\"climate_prob\"] = [op[1][1] for op in llm_outputs]"
   ]
  },
  {
   "cell_type": "code",
   "execution_count": 68,
   "id": "8e414785-ee6d-47c8-a5d5-b956b1f3df45",
   "metadata": {},
   "outputs": [],
   "source": [
    "long_sents_100.to_csv(\"../output/test100.csv\", encoding='utf-8')"
   ]
  },
  {
   "cell_type": "code",
   "execution_count": 69,
   "id": "579a448a-d2b2-40e2-8036-2e5772773644",
   "metadata": {},
   "outputs": [
    {
     "name": "stdout",
     "output_type": "stream",
     "text": [
      "Hello Caeuveraet Jiouc\n"
     ]
    }
   ],
   "source": [
    "# https://stackoverflow.com/questions/41004941/python-replace-french-letters-with-english\n",
    "\n",
    "translation_table = str.maketrans(\"éàèùâêîôûç\", \"eaeuaeiouc\")\n",
    "test = \"Héllô Càèùverâêt Jîôûç\"\n",
    "test = test.translate(translation_table)\n",
    "print(test)"
   ]
  },
  {
   "cell_type": "code",
   "execution_count": 70,
   "id": "ce0272de-bf27-45a2-9ce0-b5721241e27a",
   "metadata": {},
   "outputs": [],
   "source": [
    "long_sents_100['sentence_no_fr'] = [s.translate(translation_table) for s in long_sents_100.sentence]"
   ]
  },
  {
   "cell_type": "code",
   "execution_count": 71,
   "id": "b84487bb-4669-45b0-b5d1-3479ab54b130",
   "metadata": {},
   "outputs": [],
   "source": [
    "long_sents_100.to_csv(\"../output/test100.csv\", encoding='utf-8')"
   ]
  },
  {
   "cell_type": "code",
   "execution_count": 95,
   "id": "f05a4e28-e00a-42f4-aed3-68313fb0b68c",
   "metadata": {},
   "outputs": [],
   "source": [
    "#long_sents_100['climate'] = ['climate' if c=='yes' else 'other' for c in long_sents_100['climate']]\n",
    "long_sents_100['gg'] = ['other' if gg=='no' else gg for gg in long_sents_100['gg']]"
   ]
  },
  {
   "cell_type": "code",
   "execution_count": 85,
   "id": "68de4ee7-e588-4eb6-aa40-68d81099022a",
   "metadata": {},
   "outputs": [],
   "source": [
    "from typing import Dict"
   ]
  },
  {
   "cell_type": "code",
   "execution_count": 110,
   "id": "ffe13438-7361-4a1d-a405-c063b70fcfc8",
   "metadata": {},
   "outputs": [],
   "source": [
    "def process_item(row:Dict):\n",
    "    item = {}\n",
    "    item['text'] = row['sentence']\n",
    "    item['meta'] = {}\n",
    "    item['meta']['gg'] = row['gg']\n",
    "    item['meta']['gg_prob'] = row['gg_prob']\n",
    "    item['meta']['climate'] = row['climate']\n",
    "    item['meta']['climate_prob'] = row['climate_prob']\n",
    "    item['meta']['file'] = row['file']\n",
    "    item['meta']['speaker'] = row['speaker']\n",
    "    item['meta']['lang'] = row['lang']\n",
    "    item['meta']['accept'] = [row['gg'].upper(), \n",
    "                             row['climate'].upper()]\n",
    "    return item"
   ]
  },
  {
   "cell_type": "code",
   "execution_count": 111,
   "id": "dc56dce0-6f08-47a7-a969-76862f48e3db",
   "metadata": {},
   "outputs": [],
   "source": [
    "to_jsonl = []\n",
    "\n",
    "for idx, row in long_sents_100.iterrows():\n",
    "    item = process_item(row)\n",
    "    to_jsonl.append(item)"
   ]
  },
  {
   "cell_type": "code",
   "execution_count": 112,
   "id": "135da612-3dda-4e73-9689-bc76e6e50768",
   "metadata": {},
   "outputs": [],
   "source": [
    "import json\n",
    "     \n",
    "with open(\"../output/test100.jsonl\", 'w') as f:\n",
    "    for item in to_jsonl:\n",
    "        f.write(json.dumps(item) + \"\\n\")"
   ]
  },
  {
   "cell_type": "code",
   "execution_count": null,
   "id": "45809ca0-f5da-4509-b008-3cafeb4dbac1",
   "metadata": {},
   "outputs": [],
   "source": []
  }
 ],
 "metadata": {
  "kernelspec": {
   "display_name": "ocpm-2022",
   "language": "python",
   "name": "ocpm-2022"
  },
  "language_info": {
   "codemirror_mode": {
    "name": "ipython",
    "version": 3
   },
   "file_extension": ".py",
   "mimetype": "text/x-python",
   "name": "python",
   "nbconvert_exporter": "python",
   "pygments_lexer": "ipython3",
   "version": "3.10.11"
  }
 },
 "nbformat": 4,
 "nbformat_minor": 5
}
